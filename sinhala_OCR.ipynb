{
 "cells": [
  {
   "cell_type": "markdown",
   "id": "6d88b96a-c235-47b5-977f-59bae21f92db",
   "metadata": {},
   "source": [
    "<h1>Sinhala OCR Phase 1</h1>"
   ]
  },
  {
   "cell_type": "markdown",
   "id": "b5ee6993-99b2-46e2-9f3f-e49a32808bb9",
   "metadata": {},
   "source": [
    "<h3>1. Dataset Handling</h3>"
   ]
  },
  {
   "cell_type": "code",
   "execution_count": 2,
   "id": "6d901fa0-98f2-415e-9a93-894131167dfa",
   "metadata": {},
   "outputs": [],
   "source": [
    "import numpy as np\n",
    "import pandas as pd\n",
    "import matplotlib.pyplot as plt\n",
    "import cv2"
   ]
  },
  {
   "cell_type": "code",
   "execution_count": 3,
   "id": "5571bebb-8011-4115-a760-25ca860ca88e",
   "metadata": {},
   "outputs": [],
   "source": [
    "df_train = pd.read_csv('train.txt', sep=\" \", header=None)\n",
    "df_test = pd.read_csv('test.txt', sep=\" \", header=None)"
   ]
  },
  {
   "cell_type": "code",
   "execution_count": 4,
   "id": "28c034f3-bf06-43e2-b899-7e6841c258b3",
   "metadata": {},
   "outputs": [],
   "source": [
    "x_train_list = []\n",
    "x_test_list = []\n",
    "\n",
    "for i in range(len(df_train)):\n",
    "    img_raw = cv2.imread('dataset/train/'+df_train[0][i], cv2.IMREAD_GRAYSCALE)\n",
    "    img_inv = cv2.bitwise_not(img_raw)\n",
    "    img_resized = cv2.resize(img_inv, (28, 28))\n",
    "    x_train_list.append(img_resized/255.0)\n",
    "\n",
    "for i in range(len(df_test)):\n",
    "    img_raw = cv2.imread('dataset/train/'+df_train[0][i], cv2.IMREAD_GRAYSCALE)\n",
    "    img_inv = cv2.bitwise_not(img_raw)\n",
    "    img_resized = cv2.resize(img_inv, (28, 28))\n",
    "    x_test_list.append(img_resized/255.0)\n",
    "\n",
    "x_train = np.asarray(x_train_list, dtype=np.float32)\n",
    "x_test = np.asarray(x_test_list, dtype=np.float32)\n",
    "\n",
    "y_train = df_train[1].values\n",
    "y_test = df_test[1].values"
   ]
  },
  {
   "cell_type": "code",
   "execution_count": 5,
   "id": "e5243213-f047-499f-b0e1-369e42f541c4",
   "metadata": {},
   "outputs": [
    {
     "name": "stdout",
     "output_type": "stream",
     "text": [
      "X Train Shape: (192, 28, 28)\n",
      "X Test Shape: (32, 28, 28)\n",
      "Y Train Shape: (192,)\n",
      "Y Test Shape: (32,)\n"
     ]
    }
   ],
   "source": [
    "print(\"X Train Shape:\", x_train.shape)\n",
    "print(\"X Test Shape:\", x_test.shape)\n",
    "\n",
    "print(\"Y Train Shape:\", y_train.shape)\n",
    "print(\"Y Test Shape:\", y_test.shape)"
   ]
  },
  {
   "cell_type": "code",
   "execution_count": 6,
   "id": "f48bc848-f991-4d09-84df-ecc2c38a17a9",
   "metadata": {},
   "outputs": [],
   "source": [
    "classes = ['ක', 'ඛ', 'ග', 'ඝ', 'ඟ', 'ච', 'ඡ', 'ජ', 'ට', 'ඩ', 'න', 'ණ', 'ත', 'ථ', 'ද',\n",
    "           'ධ', 'ප', 'ඵ', 'බ', 'භ', 'ම', 'ඹ', 'ය', 'ර', 'ල', 'ව', 'ශ', 'ෂ', 'ස', 'හ', 'ළ', 'ෆ']"
   ]
  },
  {
   "cell_type": "markdown",
   "id": "976459db-aa4c-43ee-95c0-3a6e93ddc73a",
   "metadata": {},
   "source": [
    "<h5>Sample Image</h5>"
   ]
  },
  {
   "cell_type": "code",
   "execution_count": 7,
   "id": "d9c3591d-7ad5-4c2f-94da-578d407c5c91",
   "metadata": {},
   "outputs": [
    {
     "data": {
      "text/plain": [
       "<matplotlib.image.AxesImage at 0x29739c2b888>"
      ]
     },
     "execution_count": 7,
     "metadata": {},
     "output_type": "execute_result"
    },
    {
     "data": {
      "image/png": "[encoded data removed]",
      "text/plain": [
       "<Figure size 432x288 with 1 Axes>"
      ]
     },
     "metadata": {
      "needs_background": "light"
     },
     "output_type": "display_data"
    }
   ],
   "source": [
    "rand_int = np.random.randint(low=0, high=31)\n",
    "sample_img_gray = cv2.imread('dataset/test/'+df_test[0][rand_int], cv2.IMREAD_GRAYSCALE)\n",
    "sample_img_inv = cv2.bitwise_not(sample_img_gray)\n",
    "sample_img_resized = cv2.resize(sample_img_inv, (28, 28))\n",
    "plt.imshow(sample_img_resized)"
   ]
  },
  {
   "cell_type": "markdown",
   "id": "4aa06d5e-5958-4ccf-86c2-83efd0874111",
   "metadata": {},
   "source": [
    "<h3>2. Training</h3>"
   ]
  },
  {
   "cell_type": "code",
   "execution_count": 8,
   "id": "baa6f98a-9c7e-4afc-b8bb-2db6eb7e0d39",
   "metadata": {},
   "outputs": [],
   "source": [
    "import tensorflow as tf\n",
    "\n",
    "# Define a simple sequential model\n",
    "def create_model():\n",
    "    model = tf.keras.models.Sequential([\n",
    "        tf.keras.layers.Flatten(input_shape=(28, 28)),\n",
    "        tf.keras.layers.Dense(512, activation=tf.nn.relu),\n",
    "        tf.keras.layers.Dropout(0.2),\n",
    "        tf.keras.layers.Dense(32, activation=tf.nn.softmax)\n",
    "    ])\n",
    "\n",
    "    model.compile(optimizer='adam',\n",
    "                  loss='sparse_categorical_crossentropy',\n",
    "                  metrics=['accuracy'])\n",
    "    return model"
   ]
  },
  {
   "cell_type": "code",
   "execution_count": 9,
   "id": "bac9e328-16b7-4ae7-84e5-93546bbb88b9",
   "metadata": {},
   "outputs": [
    {
     "name": "stdout",
     "output_type": "stream",
     "text": [
      "WARNING:tensorflow:From c:\\users\\chamara\\appdata\\local\\programs\\python\\python37\\lib\\site-packages\\tensorflow_core\\python\\ops\\resource_variable_ops.py:1630: calling BaseResourceVariable.__init__ (from tensorflow.python.ops.resource_variable_ops) with constraint is deprecated and will be removed in a future version.\n",
      "Instructions for updating:\n",
      "If using Keras pass *_constraint arguments to layers.\n",
      "Train on 192 samples\n",
      "Epoch 1/5\n",
      "192/192 [==============================] - ETA: 0s - loss: 3.5866 - acc: 0.0000e+0 - 0s 551us/sample - loss: 3.4368 - acc: 0.0625\n",
      "Epoch 2/5\n",
      "192/192 [==============================] - 0s 156us/sample - loss: 2.8989 - acc: 0.3281\n",
      "Epoch 3/5\n",
      "192/192 [==============================] - 0s 166us/sample - loss: 2.4513 - acc: 0.5781\n",
      "Epoch 4/5\n",
      "192/192 [==============================] - 0s 161us/sample - loss: 2.0887 - acc: 0.6719\n",
      "Epoch 5/5\n",
      "192/192 [==============================] - 0s 151us/sample - loss: 1.7821 - acc: 0.7083\n",
      "32/32 [==============================] - 0s 810us/sample - loss: 0.9942 - acc: 0.9688\n",
      "Model Trained\n",
      "Loss: 0.9942002296447754\n",
      "Accuracy: 96.88%\n",
      "Model Saved\n"
     ]
    }
   ],
   "source": [
    "model = create_model()\n",
    "model.fit(x_train, y_train, epochs=5)\n",
    "loss, acc = model.evaluate(x_test, y_test)\n",
    "print(\"Model Trained\")\n",
    "print(\"Loss:\", loss)\n",
    "print(\"Accuracy: {:5.2f}%\".format(100 * acc))\n",
    "\n",
    "# Save the weights\n",
    "model.save_weights('model/my_checkpoint')\n",
    "print(\"Model Saved\")"
   ]
  },
  {
   "cell_type": "code",
   "execution_count": 10,
   "id": "322c63fa-3696-42a3-a256-c757c25b92d3",
   "metadata": {},
   "outputs": [
    {
     "name": "stdout",
     "output_type": "stream",
     "text": [
      "Model: \"sequential\"\n",
      "_________________________________________________________________\n",
      "Layer (type)                 Output Shape              Param #   \n",
      "=================================================================\n",
      "flatten (Flatten)            (None, 784)               0         \n",
      "_________________________________________________________________\n",
      "dense (Dense)                (None, 512)               401920    \n",
      "_________________________________________________________________\n",
      "dropout (Dropout)            (None, 512)               0         \n",
      "_________________________________________________________________\n",
      "dense_1 (Dense)              (None, 32)                16416     \n",
      "=================================================================\n",
      "Total params: 418,336\n",
      "Trainable params: 418,336\n",
      "Non-trainable params: 0\n",
      "_________________________________________________________________\n"
     ]
    }
   ],
   "source": [
    "model.summary()"
   ]
  },
  {
   "cell_type": "code",
   "execution_count": 11,
   "id": "857beac3-d05e-4b68-a822-b6f36846f4e6",
   "metadata": {},
   "outputs": [
    {
     "name": "stdout",
     "output_type": "stream",
     "text": [
      "32/32 - 0s - loss: 0.9942 - acc: 0.9688\n",
      "Restored model, accuracy: 96.88%\n"
     ]
    }
   ],
   "source": [
    "# Load model\n",
    "# Create a new model instance\n",
    "model = create_model()\n",
    "\n",
    "# Restore the weights\n",
    "model.load_weights('model/my_checkpoint')\n",
    "\n",
    "# Evaluate the model\n",
    "loss, acc = model.evaluate(x_test, y_test, verbose=2)\n",
    "print(\"Restored model, accuracy: {:5.2f}%\".format(100 * acc))"
   ]
  },
  {
   "cell_type": "markdown",
   "id": "f6c61e41-3789-401f-95ff-985360e12536",
   "metadata": {},
   "source": [
    "<h3>3. Decode Image for OCR</h3>"
   ]
  },
  {
   "cell_type": "code",
   "execution_count": 12,
   "id": "6daa5d2b-5a6b-42c7-b026-5fe537fbdc81",
   "metadata": {},
   "outputs": [],
   "source": [
    "from imutils import resize, grab_contours\n",
    "from PIL import ImageFont, ImageDraw, Image\n",
    "\n",
    "def read_img(img):\n",
    "    image_to_test = cv2.imread(img)\n",
    "    # convert to grayscale\n",
    "    gray = cv2.cvtColor(image_to_test, cv2.COLOR_BGR2GRAY)\n",
    "    # blurring the image\n",
    "    blur = cv2.GaussianBlur(gray, (5, 5), 0)\n",
    "    # apply edge filter to the blurred image\n",
    "    edge = cv2.Canny(blur, 30, 150)\n",
    "\n",
    "    # get contours\n",
    "    cntrs = cv2.findContours(\n",
    "        edge.copy(), cv2.RETR_EXTERNAL, cv2.CHAIN_APPROX_SIMPLE)\n",
    "    cntrs = grab_contours(cntrs)\n",
    "\n",
    "    # sort contours from top left to bottom right\n",
    "    boundingBox = [cv2.boundingRect(c) for c in cntrs]\n",
    "    (cntrs, _) = zip(*sorted(zip(cntrs, boundingBox),\n",
    "                             key=lambda x: (-x[1][1], x[1][0])))\n",
    "\n",
    "    image_size = (28, 28)\n",
    "\n",
    "    char_detected = []\n",
    "\n",
    "    for c in cntrs:\n",
    "        (x, y, w, h) = cv2.boundingRect(c)\n",
    "\n",
    "        # attemp to ignore small contours\n",
    "        if (w >= 32 and w <= 350) and (h >= 32 and h <= 320):\n",
    "            # create an Region of Interest\n",
    "            roi = gray[y:y+h, x:x+w]\n",
    "\n",
    "            # threshold it to make it into binary image\n",
    "            bin_img = cv2.threshold(\n",
    "                roi, 0, 255, cv2.THRESH_BINARY_INV | cv2.THRESH_OTSU)[1]\n",
    "            bin_img = cv2.copyMakeBorder(\n",
    "                bin_img,\n",
    "                top=10,\n",
    "                bottom=10,\n",
    "                left=10,\n",
    "                right=10,\n",
    "                borderType=cv2.BORDER_CONSTANT,\n",
    "                value=0\n",
    "            )\n",
    "            (iH, iW) = bin_img.shape\n",
    "\n",
    "            if iW > iH:\n",
    "                bin_img = resize(bin_img, width=image_size[0])\n",
    "            else:\n",
    "                bin_img = resize(bin_img, height=image_size[1])\n",
    "\n",
    "            # update with the new image size\n",
    "            (iH, iW) = bin_img.shape\n",
    "            dX = int(max(0, 32 - iW) / 2.0)\n",
    "            dY = int(max(0, 32 - iH) / 2.0)\n",
    "\n",
    "            # pad the image and resize it to match the input of the model\n",
    "            padded = cv2.copyMakeBorder(bin_img, top=dY, bottom=dY,\n",
    "                                        left=dX, right=dX, borderType=cv2.BORDER_CONSTANT,\n",
    "                                        value=(0, 0, 0))\n",
    "            padded = cv2.resize(padded, image_size)\n",
    "\n",
    "            # normalize the image so that it got the same value of testImg\n",
    "            padded = padded.astype(\"float32\") / 255.0\n",
    "            padded = np.expand_dims(padded, axis=-1)\n",
    "\n",
    "            # put it into list of the queue of images to predict\n",
    "            char_detected.append([padded, (x, y, w, h)])\n",
    "\n",
    "    # get each location and image of detected char\n",
    "    boxes = [b[1] for b in char_detected]\n",
    "    char_detected = np.array([c[0].reshape(28, 28)\n",
    "                              for c in char_detected], dtype=\"float32\")\n",
    "\n",
    "    return char_detected, boxes, image_to_test"
   ]
  },
  {
   "cell_type": "code",
   "execution_count": 13,
   "id": "7e7410f7-a11b-42d8-8d1d-95137d138fb2",
   "metadata": {},
   "outputs": [
    {
     "name": "stdout",
     "output_type": "stream",
     "text": [
      "Letter ළ - 12.45%\n",
      "Letter ද - 13.24%\n",
      "Letter ස - 12.05%\n",
      "Letter ල - 8.96%\n",
      "Letter ස - 12.60%\n",
      "Letter හ - 12.14%\n",
      "Letter ව - 9.74%\n",
      "Letter ර - 36.40%\n",
      "Letter ක - 25.64%\n",
      "Letter ද - 53.88%\n",
      "Letter න - 20.95%\n",
      "Letter ල - 8.50%\n",
      "Letter ඛ - 21.32%\n",
      "Letter ඹ - 14.42%\n",
      "Letter ක - 47.68%\n",
      "Letter ශ - 13.16%\n",
      "Letter ණ - 29.76%\n",
      "Letter ජ - 36.10%\n",
      "Letter බ - 10.71%\n",
      "Letter ඩ - 24.80%\n"
     ]
    },
    {
     "data": {
      "text/plain": [
       "<matplotlib.image.AxesImage at 0x297466e2b48>"
      ]
     },
     "execution_count": 13,
     "metadata": {},
     "output_type": "execute_result"
    },
    {
     "data": {
      "image/png": "[encoded data removed]",
      "text/plain": [
       "<Figure size 432x288 with 1 Axes>"
      ]
     },
     "metadata": {
      "needs_background": "light"
     },
     "output_type": "display_data"
    }
   ],
   "source": [
    "char_detected, boxes, img_ori = read_img('image.jpg')\n",
    "\n",
    "predictions = model.predict(char_detected)\n",
    "preds = []\n",
    "for pred in predictions:\n",
    "    i = np.argmax(pred)\n",
    "    prob = pred[i]\n",
    "    preds.append([classes[i], prob])\n",
    "\n",
    "fontpath = \"iskpota.ttf\"\n",
    "font = ImageFont.truetype(fontpath, 32)\n",
    "b, g, r, a = 0, 255, 0, 0\n",
    "\n",
    "for (pred, (x, y, w, h)) in zip(preds, boxes):\n",
    "    # put the result into the image and print it\n",
    "    print(\"Letter {} - {:.2f}%\".format(pred[0], pred[1] * 100))\n",
    "    cv2.rectangle(img_ori, (x, y), (x + w, y + h), (0, 255, 0), 2)\n",
    "\n",
    "img_ori_raw = Image.fromarray(img_ori)\n",
    "for (pred, (x, y, w, h)) in zip(preds, boxes):\n",
    "    draw = ImageDraw.Draw(img_ori_raw)\n",
    "    draw.text((x - 20, y - 30),\n",
    "              \"{}\".format(pred[0]), font=font, fill=(b, g, r, a))\n",
    "\n",
    "img = np.array(img_ori_raw)\n",
    "\n",
    "plt.imshow(img)"
   ]
  },
  {
   "cell_type": "code",
   "execution_count": 13,
   "id": "83542152-29f6-42a1-a5cd-2bdfefd99b2a",
   "metadata": {},
   "outputs": [
    {
     "data": {
      "text/plain": [
       "True"
      ]
     },
     "execution_count": 13,
     "metadata": {},
     "output_type": "execute_result"
    }
   ],
   "source": [
    "# Save Image\n",
    "cv2.imwrite(\"result.png\", img)"
   ]
  }
 ],
 "metadata": {
  "kernelspec": {
   "display_name": "Python 3",
   "language": "python",
   "name": "python3"
  },
  "language_info": {
   "codemirror_mode": {
    "name": "ipython",
    "version": 3
   },
   "file_extension": ".py",
   "mimetype": "text/x-python",
   "name": "python",
   "nbconvert_exporter": "python",
   "pygments_lexer": "ipython3",
   "version": "3.7.9"
  }
 },
 "nbformat": 4,
 "nbformat_minor": 5
}
